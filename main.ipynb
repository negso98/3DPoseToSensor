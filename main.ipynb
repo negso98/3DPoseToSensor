{
 "cells": [
  {
   "cell_type": "code",
   "execution_count": 8,
   "metadata": {
    "id": "hyza7wctaQ3Q"
   },
   "outputs": [
    {
     "ename": "ModuleNotFoundError",
     "evalue": "No module named 'tensorflow'",
     "output_type": "error",
     "traceback": [
      "\u001b[0;31m---------------------------------------------------------------------------\u001b[0m",
      "\u001b[0;31mModuleNotFoundError\u001b[0m                       Traceback (most recent call last)",
      "Cell \u001b[0;32mIn[8], line 4\u001b[0m\n\u001b[1;32m      2\u001b[0m \u001b[38;5;28;01mimport\u001b[39;00m \u001b[38;5;21;01mpandas\u001b[39;00m \u001b[38;5;28;01mas\u001b[39;00m \u001b[38;5;21;01mpd\u001b[39;00m\n\u001b[1;32m      3\u001b[0m \u001b[38;5;28;01mimport\u001b[39;00m \u001b[38;5;21;01mmatplotlib\u001b[39;00m\u001b[38;5;21;01m.\u001b[39;00m\u001b[38;5;21;01mpyplot\u001b[39;00m \u001b[38;5;28;01mas\u001b[39;00m \u001b[38;5;21;01mplt\u001b[39;00m\n\u001b[0;32m----> 4\u001b[0m \u001b[38;5;28;01mimport\u001b[39;00m \u001b[38;5;21;01mtensorflow\u001b[39;00m \u001b[38;5;28;01mas\u001b[39;00m \u001b[38;5;21;01mtf\u001b[39;00m\n\u001b[1;32m      5\u001b[0m \u001b[38;5;28;01mfrom\u001b[39;00m \u001b[38;5;21;01mtcn\u001b[39;00m \u001b[38;5;28;01mimport\u001b[39;00m TCN, tcn_full_summary\n",
      "\u001b[0;31mModuleNotFoundError\u001b[0m: No module named 'tensorflow'"
     ]
    }
   ],
   "source": [
    "import numpy as np\n",
    "import pandas as pd\n",
    "import matplotlib.pyplot as plt\n",
    "import tensorflow as tf\n",
    "from tcn import TCN, tcn_full_summary"
   ]
  },
  {
   "cell_type": "code",
   "execution_count": 7,
   "metadata": {},
   "outputs": [
    {
     "ename": "NameError",
     "evalue": "name 'layer' is not defined",
     "output_type": "error",
     "traceback": [
      "\u001b[0;31m---------------------------------------------------------------------------\u001b[0m",
      "\u001b[0;31mNameError\u001b[0m                                 Traceback (most recent call last)",
      "Cell \u001b[0;32mIn[7], line 1\u001b[0m\n\u001b[0;32m----> 1\u001b[0m \u001b[38;5;28;01mclass\u001b[39;00m \u001b[38;5;21;01mTCN\u001b[39;00m(layer):\n\u001b[1;32m      2\u001b[0m     \u001b[38;5;28;01mdef\u001b[39;00m \u001b[38;5;21m__init__\u001b[39m(\u001b[38;5;28mself\u001b[39m,\n\u001b[1;32m      3\u001b[0m                  dilation_rate: \u001b[38;5;28mint\u001b[39m,\n\u001b[1;32m      4\u001b[0m                  nb_filters: \u001b[38;5;28mint\u001b[39m,\n\u001b[1;32m      5\u001b[0m                  kernel_size: \u001b[38;5;28mint\u001b[39m, \n\u001b[1;32m      6\u001b[0m                  padding: \u001b[38;5;28mstr\u001b[39m,                 dropout_rate: \u001b[38;5;28mfloat\u001b[39m,\n\u001b[1;32m      7\u001b[0m                  activation: \u001b[38;5;28mstr\u001b[39m \u001b[38;5;241m=\u001b[39m \u001b[38;5;124m'\u001b[39m\u001b[38;5;124mrelu\u001b[39m\u001b[38;5;124m'\u001b[39m): \n\u001b[1;32m      8\u001b[0m         \u001b[38;5;28msuper\u001b[39m(TemporalBlock, \u001b[38;5;28mself\u001b[39m)\u001b[38;5;241m.\u001b[39m\u001b[38;5;21m__init__\u001b[39m()\n",
      "\u001b[0;31mNameError\u001b[0m: name 'layer' is not defined"
     ]
    }
   ],
   "source": [
    "class TCN(layer):\n",
    "    def __init__(self,\n",
    "                 dilation_rate: int,\n",
    "                 nb_filters: int,\n",
    "                 kernel_size: int, \n",
    "                 padding: str,                 \n",
    "                 dropout_rate: float,\n",
    "                 activation: str = 'relu'): \n",
    "        super(TemporalBlock, self).__init__()\n",
    "        assert padding in ['same']\n",
    "\n",
    "        # block1\n",
    "        self.conv1 = layers.Conv1D(filters=32, kernel_size=5,\n",
    "                                   dilation_rate=[1,1], padding=padding, kernel_initializer=init)\n",
    "        self.batch1 = layers.BatchNormalization(axis=-1)\n",
    "        self.ac1 = layers.Activation('relu')\n",
    "        self.drop1 = layers.Dropout(rate=dropout_rate)\n",
    "        \n",
    "        # block2\n",
    "        self.conv2 = layers.Conv1D(filters=32, kernel_size=5,\n",
    "                               dilation_rate=dilation_rate, padding=padding, kernel_initializer=init)\n",
    "        self.batch2 = layers.BatchNormalization(axis=-1)\n",
    "        self.ac2 = layers.Activation('relu')\n",
    "        self.drop2 = layers.Dropout(rate=0.0)"
   ]
  },
  {
   "cell_type": "code",
   "execution_count": 6,
   "metadata": {
    "colab": {
     "base_uri": "https://localhost:8080/"
    },
    "id": "urqBm15r-KmW",
    "outputId": "9b7bf5da-285f-4950-836b-07b843123c06",
    "scrolled": true
   },
   "outputs": [
    {
     "ename": "NameError",
     "evalue": "name 'Model' is not defined",
     "output_type": "error",
     "traceback": [
      "\u001b[0;31m---------------------------------------------------------------------------\u001b[0m",
      "\u001b[0;31mNameError\u001b[0m                                 Traceback (most recent call last)",
      "Cell \u001b[0;32mIn[6], line 1\u001b[0m\n\u001b[0;32m----> 1\u001b[0m model \u001b[38;5;241m=\u001b[39m Model(inputs\u001b[38;5;241m=\u001b[39minput_layer, outputs\u001b[38;5;241m=\u001b[39moutput_layer)\n\u001b[1;32m      2\u001b[0m model\u001b[38;5;241m.\u001b[39madd(Dense(\u001b[38;5;241m1\u001b[39m, activation\u001b[38;5;241m=\u001b[39m\u001b[38;5;124m'\u001b[39m\u001b[38;5;124msoftmax\u001b[39m\u001b[38;5;124m'\u001b[39m))\n\u001b[1;32m      3\u001b[0m \u001b[38;5;66;03m#z = layers.Concatenate()([x,y])\u001b[39;00m\n\u001b[1;32m      4\u001b[0m \u001b[38;5;66;03m#z = layers.Conv1D(filters = 1, kernel_size = 1, activation='relu')(z)\u001b[39;00m\n\u001b[1;32m      5\u001b[0m \u001b[38;5;66;03m#output = layers.Reshape((80,28))(z)\u001b[39;00m\n",
      "\u001b[0;31mNameError\u001b[0m: name 'Model' is not defined"
     ]
    }
   ],
   "source": [
    "\n",
    "model = Model(inputs=input_layer, outputs=output_layer)\n",
    "model.add(Dense(1, activation='softmax'))\n",
    "#z = layers.Concatenate()([x,y])\n",
    "#z = layers.Conv1D(filters = 1, kernel_size = 1, activation='relu')(z)\n",
    "#output = layers.Reshape((80,28))(z)\n",
    "model_o = tf.keras.optimizers.Adam(0.001)\n",
    "model.compile(loss='mse',optimizer=model_o, metrics=[\"mae\"])\n",
    "model.summary()\n",
    "#tf.keras.utils.plot_model(model,show_shapes=True, show_dtype=True, show_layer_names=True, rankdir=\"TB\", expand_nested=False, dpi=96, layer_range=None, show_layer_activations=True,)"
   ]
  },
  {
   "cell_type": "code",
   "execution_count": null,
   "metadata": {},
   "outputs": [],
   "source": []
  }
 ],
 "metadata": {
  "colab": {
   "collapsed_sections": [],
   "name": "model.ipynb",
   "provenance": []
  },
  "kernelspec": {
   "display_name": "Python 3 (ipykernel)",
   "language": "python",
   "name": "python3"
  },
  "language_info": {
   "codemirror_mode": {
    "name": "ipython",
    "version": 3
   },
   "file_extension": ".py",
   "mimetype": "text/x-python",
   "name": "python",
   "nbconvert_exporter": "python",
   "pygments_lexer": "ipython3",
   "version": "3.11.3"
  }
 },
 "nbformat": 4,
 "nbformat_minor": 1
}
